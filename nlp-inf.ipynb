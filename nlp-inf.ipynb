{
 "cells": [
  {
   "cell_type": "code",
   "execution_count": 8,
   "id": "f6829f56",
   "metadata": {},
   "outputs": [],
   "source": [
    "from tensorflow.keras.models import load_model\n",
    "import numpy as np"
   ]
  },
  {
   "cell_type": "code",
   "execution_count": 3,
   "id": "e20a884b",
   "metadata": {},
   "outputs": [],
   "source": [
    "# Load the saved model\n",
    "loaded_model = load_model('model_lstm_2')"
   ]
  },
  {
   "cell_type": "code",
   "execution_count": 19,
   "id": "2fb94a0b",
   "metadata": {},
   "outputs": [
    {
     "name": "stdout",
     "output_type": "stream",
     "text": [
      "1/1 [==============================] - 1s 831ms/step\n",
      "Prediction :  [1]\n",
      "1/1 [==============================] - 0s 373ms/step\n",
      "Sentiment Label : [1]\n",
      "Sentiment Label : ['Positive']\n"
     ]
    }
   ],
   "source": [
    "# Predict New Texts\n",
    "\n",
    "# Define the function\n",
    "def get_sentiment_label(rating):\n",
    "    if rating >= 4:\n",
    "        return 1  # Positive\n",
    "    elif rating == 3:\n",
    "        return 2  # Neutral\n",
    "    else:\n",
    "        return 0  # Negative\n",
    "\n",
    "## Define New Data\n",
    "new_texts = ['Stayed at Sunset Oasis for a weekend. The location was perfect, and the staff were friendly.']\n",
    "\n",
    "## Predict\n",
    "print('Prediction : ', np.argmax(loaded_model.predict(new_texts), axis=1))\n",
    "\n",
    "predicted_labels = np.argmax(loaded_model.predict(new_texts), axis=1)\n",
    "print('Sentiment Label :', predicted_labels)\n",
    "\n",
    "label_map = {0: 'Negative', 1: 'Positive', 2: 'Neutral'}\n",
    "print('Sentiment Label :', [label_map[label] for label in predicted_labels])"
   ]
  }
 ],
 "metadata": {
  "kernelspec": {
   "display_name": "tf",
   "language": "python",
   "name": "python3"
  },
  "language_info": {
   "codemirror_mode": {
    "name": "ipython",
    "version": 3
   },
   "file_extension": ".py",
   "mimetype": "text/x-python",
   "name": "python",
   "nbconvert_exporter": "python",
   "pygments_lexer": "ipython3",
   "version": "3.9.21"
  }
 },
 "nbformat": 4,
 "nbformat_minor": 5
}
